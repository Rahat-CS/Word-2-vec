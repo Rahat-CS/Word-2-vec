{
 "cells": [
  {
   "cell_type": "code",
   "execution_count": 1,
   "metadata": {},
   "outputs": [
    {
     "name": "stdout",
     "output_type": "stream",
     "text": [
      "Requirement already satisfied: gensim in c:\\users\\asus\\anaconda3\\lib\\site-packages (4.3.0)\n",
      "Requirement already satisfied: smart-open>=1.8.1 in c:\\users\\asus\\anaconda3\\lib\\site-packages (from gensim) (5.2.1)\n",
      "Requirement already satisfied: numpy>=1.18.5 in c:\\users\\asus\\anaconda3\\lib\\site-packages (from gensim) (1.21.5)\n",
      "Requirement already satisfied: scipy>=1.7.0 in c:\\users\\asus\\anaconda3\\lib\\site-packages (from gensim) (1.7.3)\n",
      "Requirement already satisfied: FuzzyTM>=0.4.0 in c:\\users\\asus\\anaconda3\\lib\\site-packages (from gensim) (2.0.5)\n",
      "Requirement already satisfied: pandas in c:\\users\\asus\\anaconda3\\lib\\site-packages (from FuzzyTM>=0.4.0->gensim) (1.1.3)\n",
      "Requirement already satisfied: pyfume in c:\\users\\asus\\anaconda3\\lib\\site-packages (from FuzzyTM>=0.4.0->gensim) (0.2.25)\n",
      "Requirement already satisfied: python-dateutil>=2.7.3 in c:\\users\\asus\\anaconda3\\lib\\site-packages (from pandas->FuzzyTM>=0.4.0->gensim) (2.8.1)\n",
      "Requirement already satisfied: pytz>=2017.2 in c:\\users\\asus\\anaconda3\\lib\\site-packages (from pandas->FuzzyTM>=0.4.0->gensim) (2020.1)\n",
      "Requirement already satisfied: simpful in c:\\users\\asus\\anaconda3\\lib\\site-packages (from pyfume->FuzzyTM>=0.4.0->gensim) (2.9.0)\n",
      "Requirement already satisfied: fst-pso in c:\\users\\asus\\anaconda3\\lib\\site-packages (from pyfume->FuzzyTM>=0.4.0->gensim) (1.8.1)\n",
      "Requirement already satisfied: six>=1.5 in c:\\users\\asus\\anaconda3\\lib\\site-packages (from python-dateutil>=2.7.3->pandas->FuzzyTM>=0.4.0->gensim) (1.15.0)\n",
      "Requirement already satisfied: requests in c:\\users\\asus\\anaconda3\\lib\\site-packages (from simpful->pyfume->FuzzyTM>=0.4.0->gensim) (2.24.0)\n",
      "Requirement already satisfied: miniful in c:\\users\\asus\\anaconda3\\lib\\site-packages (from fst-pso->pyfume->FuzzyTM>=0.4.0->gensim) (0.0.6)\n",
      "Requirement already satisfied: urllib3!=1.25.0,!=1.25.1,<1.26,>=1.21.1 in c:\\users\\asus\\anaconda3\\lib\\site-packages (from requests->simpful->pyfume->FuzzyTM>=0.4.0->gensim) (1.25.11)\n",
      "Requirement already satisfied: chardet<4,>=3.0.2 in c:\\users\\asus\\anaconda3\\lib\\site-packages (from requests->simpful->pyfume->FuzzyTM>=0.4.0->gensim) (3.0.4)\n",
      "Requirement already satisfied: idna<3,>=2.5 in c:\\users\\asus\\anaconda3\\lib\\site-packages (from requests->simpful->pyfume->FuzzyTM>=0.4.0->gensim) (2.10)\n",
      "Requirement already satisfied: certifi>=2017.4.17 in c:\\users\\asus\\anaconda3\\lib\\site-packages (from requests->simpful->pyfume->FuzzyTM>=0.4.0->gensim) (2022.12.7)\n"
     ]
    }
   ],
   "source": [
    "!pip install gensim \n"
   ]
  },
  {
   "cell_type": "code",
   "execution_count": 2,
   "metadata": {},
   "outputs": [],
   "source": [
    "import pandas as pd \n",
    "import gensim \n",
    "import os\n",
    "import spacy\n",
    "nlp = spacy.load('en_core_web_lg')\n",
    "import nltk"
   ]
  },
  {
   "cell_type": "code",
   "execution_count": 3,
   "metadata": {},
   "outputs": [
    {
     "data": {
      "text/html": [
       "<div>\n",
       "<style scoped>\n",
       "    .dataframe tbody tr th:only-of-type {\n",
       "        vertical-align: middle;\n",
       "    }\n",
       "\n",
       "    .dataframe tbody tr th {\n",
       "        vertical-align: top;\n",
       "    }\n",
       "\n",
       "    .dataframe thead th {\n",
       "        text-align: right;\n",
       "    }\n",
       "</style>\n",
       "<table border=\"1\" class=\"dataframe\">\n",
       "  <thead>\n",
       "    <tr style=\"text-align: right;\">\n",
       "      <th></th>\n",
       "      <th>Id</th>\n",
       "      <th>text</th>\n",
       "    </tr>\n",
       "  </thead>\n",
       "  <tbody>\n",
       "    <tr>\n",
       "      <th>0</th>\n",
       "      <td>0</td>\n",
       "      <td>The Project Gutenberg eBook of Alice’s Adventu...</td>\n",
       "    </tr>\n",
       "    <tr>\n",
       "      <th>1</th>\n",
       "      <td>1</td>\n",
       "      <td>You may copy it, give it away or re-use it un...</td>\n",
       "    </tr>\n",
       "    <tr>\n",
       "      <th>2</th>\n",
       "      <td>2</td>\n",
       "      <td>gutenberg</td>\n",
       "    </tr>\n",
       "    <tr>\n",
       "      <th>3</th>\n",
       "      <td>3</td>\n",
       "      <td>org</td>\n",
       "    </tr>\n",
       "    <tr>\n",
       "      <th>4</th>\n",
       "      <td>4</td>\n",
       "      <td>If you are not located in the United States, ...</td>\n",
       "    </tr>\n",
       "  </tbody>\n",
       "</table>\n",
       "</div>"
      ],
      "text/plain": [
       "   Id                                               text\n",
       "0   0  The Project Gutenberg eBook of Alice’s Adventu...\n",
       "1   1   You may copy it, give it away or re-use it un...\n",
       "2   2                                          gutenberg\n",
       "3   3                                                org\n",
       "4   4   If you are not located in the United States, ..."
      ]
     },
     "execution_count": 3,
     "metadata": {},
     "output_type": "execute_result"
    }
   ],
   "source": [
    "data = pd.read_csv('Rahat.csv')\n",
    "data.head()"
   ]
  },
  {
   "cell_type": "code",
   "execution_count": 4,
   "metadata": {},
   "outputs": [],
   "source": [
    "ref_sent = data.loc[data['Id']==748,'text'].iloc[0]\n",
    "#ref_sent1 = input(\"synonym to be find:\")"
   ]
  },
  {
   "cell_type": "code",
   "execution_count": 5,
   "metadata": {},
   "outputs": [
    {
     "data": {
      "text/plain": [
       "'“It must be a very pretty dance,” said Alice timidly'"
      ]
     },
     "execution_count": 5,
     "metadata": {},
     "output_type": "execute_result"
    }
   ],
   "source": [
    "ref_sent"
   ]
  },
  {
   "cell_type": "code",
   "execution_count": 6,
   "metadata": {},
   "outputs": [],
   "source": [
    "ref_sent_vec = nlp(ref_sent) #vectorize reference sentence"
   ]
  },
  {
   "cell_type": "code",
   "execution_count": 7,
   "metadata": {},
   "outputs": [],
   "source": [
    "all_docs = [nlp(row) for row in data ['text']]"
   ]
  },
  {
   "cell_type": "code",
   "execution_count": 8,
   "metadata": {},
   "outputs": [
    {
     "name": "stderr",
     "output_type": "stream",
     "text": [
      "<ipython-input-8-edeb85ce13ad>:4: UserWarning: [W008] Evaluating Doc.similarity based on empty vectors.\n",
      "  sim = all_docs[i].similarity(ref_sent_vec)\n"
     ]
    }
   ],
   "source": [
    "sims = []\n",
    "doc_id = []\n",
    "for i in range (len(all_docs)):\n",
    "    sim = all_docs[i].similarity(ref_sent_vec)\n",
    "    sims.append(sim)\n",
    "    doc_id.append(i)\n",
    "    sims_docs = pd.DataFrame(list(zip(doc_id,sims)), columns = ['doc_id','sims'])"
   ]
  },
  {
   "cell_type": "code",
   "execution_count": 9,
   "metadata": {},
   "outputs": [],
   "source": [
    "sims_docs_sorted=sims_docs.sort_values(by = 'sims', ascending = False)"
   ]
  },
  {
   "cell_type": "code",
   "execution_count": 10,
   "metadata": {},
   "outputs": [],
   "source": [
    "top10_sim_docs= data.iloc[sims_docs_sorted['doc_id'][1:10]]"
   ]
  },
  {
   "cell_type": "code",
   "execution_count": 11,
   "metadata": {},
   "outputs": [
    {
     "name": "stdout",
     "output_type": "stream",
     "text": [
      "['“It must be a very pretty dance,” said Alice timidly']\n"
     ]
    }
   ],
   "source": [
    "print(data[data[\"Id\"]==748]['text'].values)"
   ]
  },
  {
   "cell_type": "code",
   "execution_count": 12,
   "metadata": {},
   "outputs": [],
   "source": [
    "top_sim_scores=pd.concat([top10_sim_docs, sims_docs_sorted['sims'][1:10]], axis = 1)"
   ]
  },
  {
   "cell_type": "code",
   "execution_count": 13,
   "metadata": {},
   "outputs": [
    {
     "name": "stdout",
     "output_type": "stream",
     "text": [
      "the top 10 similar sentence are:“I’ve a right to think,” said Alice sharply, for she was beginning tofeel a little worried\n",
      " with a similiarity score of 0.94\n",
      "\n",
      "the top 10 similar sentence are:“Please would you tell me,” said Alice, a little timidly, for she wasnot quite sure whether it was good manners for her to speak first, “whyyour cat grins like that?”“It’s a Cheshire cat,” said the Duchess, “and that’s why\n",
      " with a similiarity score of 0.94\n",
      "\n",
      "the top 10 similar sentence are:”“It turned into a pig,” Alice quietly said, just as if it had come backin a natural way\n",
      " with a similiarity score of 0.94\n",
      "\n",
      "the top 10 similar sentence are:“Well, I’ve tried to say “How doth the little busy bee,” but it allcame different!” Alice replied in a very melancholy voice\n",
      " with a similiarity score of 0.94\n",
      "\n",
      "the top 10 similar sentence are: “I can see you’re trying toinvent something!”“I—I’m a little girl,” said Alice, rather doubtfully, as she rememberedthe number of changes she had gone through that day\n",
      " with a similiarity score of 0.94\n",
      "\n",
      "the top 10 similar sentence are:”Alice tried to fancy to herself what such an extraordinary ways ofliving would be like, but it puzzled her too much, so she went on: “Butwhy did they live at the bottom of a well?”“Take some more tea,” the March Hare said to Alice, very earnestly\n",
      " with a similiarity score of 0.94\n",
      "\n",
      "the top 10 similar sentence are:“Then it wasn’t very civil of you to offer it,” said Alice angrily\n",
      " with a similiarity score of 0.94\n",
      "\n",
      "the top 10 similar sentence are: “If it had grown up,” she said toherself, “it would have made a dreadfully ugly child: but it makesrather a handsome pig, I think\n",
      " with a similiarity score of 0.94\n",
      "\n",
      "the top 10 similar sentence are:”“I don’t know of any that do,” Alice said very politely, feeling quitepleased to have got into a conversation\n",
      " with a similiarity score of 0.94\n",
      "\n"
     ]
    }
   ],
   "source": [
    "for (text,sim) in zip(top_sim_scores['text'], top_sim_scores['sims']):\n",
    "    print(\"the top 10 similar sentence are:{}\\n with a similiarity score of {:.2f}\\n\".format(text,sim))"
   ]
  },
  {
   "cell_type": "code",
   "execution_count": null,
   "metadata": {},
   "outputs": [],
   "source": []
  }
 ],
 "metadata": {
  "kernelspec": {
   "display_name": "Python 3",
   "language": "python",
   "name": "python3"
  },
  "language_info": {
   "codemirror_mode": {
    "name": "ipython",
    "version": 3
   },
   "file_extension": ".py",
   "mimetype": "text/x-python",
   "name": "python",
   "nbconvert_exporter": "python",
   "pygments_lexer": "ipython3",
   "version": "3.8.5"
  }
 },
 "nbformat": 4,
 "nbformat_minor": 4
}
